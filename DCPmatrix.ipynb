{
 "cells": [
  {
   "cell_type": "code",
   "execution_count": 1,
   "metadata": {},
   "outputs": [],
   "source": [
    "import numpy as np\n",
    "from DCP import *\n",
    "\n",
    "%load_ext autoreload\n",
    "%autoreload 2\n"
   ]
  },
  {
   "cell_type": "code",
   "execution_count": null,
   "metadata": {},
   "outputs": [],
   "source": [
    "# FM Forward Matrix\n",
    "# CM Color Matrix\n",
    "# AB Anology Balance /Camera White balance camera_whitebalance"
   ]
  },
  {
   "cell_type": "code",
   "execution_count": 4,
   "metadata": {},
   "outputs": [],
   "source": [
    "parser = DCPParser('E:\\摄影Photo软件工具\\DCP_Projects\\dcp转换工具20200618\\Sony ILCE-7RM2 Adobe Standard.xml')\n",
    "parser.parse_matrices()\n",
    "CM1 = parser.matrices['ColorMatrix1']\n",
    "CM2 = parser.matrices['ColorMatrix2']\n",
    "FM1 = parser.matrices['ForwardMatrix1']\n",
    "FM2 = parser.matrices['ForwardMatrix2']\n",
    "\n",
    "CameraWB = np.array([2592.0, 1024.0, 1556.0])\n",
    "CameraN = 1/CameraWB\n",
    "# AB = np.diag([1.83203125,1.0       ,3.15234375])\n",
    "# BA = np.diag(1/np.array([1.83203125,1.0       ,3.15234375]))\n"
   ]
  },
  {
   "cell_type": "code",
   "execution_count": 5,
   "metadata": {},
   "outputs": [
    {
     "data": {
      "text/plain": [
       "(np.float64(5401.177271224945), np.float64(5403.438174019584))"
      ]
     },
     "execution_count": 5,
     "metadata": {},
     "output_type": "execute_result"
    }
   ],
   "source": [
    "# WB Temp calculation\n",
    "CM = CM2\n",
    "# CM = interpolateMatrix(2870,6500,3050,CM1,CM2)\n",
    "\n",
    "XYZ2Camera = CM # AB * CM\n",
    "Camer2XYZ = np.linalg.inv(CM) # inv(CM)  * inv(AB) \n",
    "# XYZ white point = Camer2XYZ * Camera netural point\n",
    "# Camera netural point is (1/Camera WB) just CameraRGB response\n",
    "XYZ_wp = Camer2XYZ @ CameraN\n",
    "\n",
    "x,y,Y = XYZ2xyY(XYZ_wp)\n",
    "xy2Temp(x,y),xyCoordToTemperature([x,y])\n"
   ]
  },
  {
   "cell_type": "code",
   "execution_count": 7,
   "metadata": {},
   "outputs": [
    {
     "name": "stdout",
     "output_type": "stream",
     "text": [
      "[0.9644 1.     0.8251]\n",
      "[0.9644 1.     0.8251]\n"
     ]
    }
   ],
   "source": [
    "# Forawrd Matrix Test\n",
    "\n",
    "print(FM1 @ [1,1,1]) # D50 in XYZ\n",
    "print(FM2 @ [1,1,1]) # D50 in XYZ"
   ]
  },
  {
   "cell_type": "markdown",
   "metadata": {},
   "source": [
    "# ISP process"
   ]
  },
  {
   "cell_type": "code",
   "execution_count": 9,
   "metadata": {},
   "outputs": [
    {
     "name": "stdout",
     "output_type": "stream",
     "text": [
      "The autoreload extension is already loaded. To reload it, use:\n",
      "  %reload_ext autoreload\n"
     ]
    }
   ],
   "source": [
    "import matplotlib.pyplot as plt\n",
    "import numpy as np\n",
    "from ISP import *\n",
    "\n",
    "# %matplotlib notebook\n",
    "%matplotlib qt5\n",
    "\n",
    "%load_ext autoreload\n",
    "%autoreload 2\n"
   ]
  },
  {
   "cell_type": "code",
   "execution_count": 71,
   "metadata": {},
   "outputs": [
    {
     "name": "stdout",
     "output_type": "stream",
     "text": [
      "RAW Shape:(5320, 8000)\n",
      "OB 512 \n",
      " white_level 16383 \n",
      " MAX16628\n"
     ]
    }
   ],
   "source": [
    "img,H_raw = read_raw_simple(\"./0.ARW\")\n",
    "\n",
    "path ='E:\\摄影Photo软件工具\\DCP_Projects\\dcp转换工具20200618\\Sony ILCE-7RM2 Adobe Standard.xml'\n",
    "path = 'E:\\摄影Photo软件工具\\DCP_Projects\\dcp转换工具20200618\\Olympus E-M1 Mark III Adobe Standard.xml'\n",
    "\n",
    "parser = DCPParser(path)\n",
    "parser.parse_matrices()\n",
    "CM1 = parser.matrices['ColorMatrix1']\n",
    "CM2 = parser.matrices['ColorMatrix2']\n",
    "FM1 = parser.matrices['ForwardMatrix1']\n",
    "FM2 = parser.matrices['ForwardMatrix2']\n",
    "\n",
    "# Camera AWB\n",
    "R_gain,G_gain,B_gain = H_raw.camera_whitebalance[0:3]\n",
    "cameraWB = np.array([R_gain/G_gain,1,B_gain/G_gain])\n",
    "cameraNetural = 1/cameraWB # Actuall is the RGB vector represent white"
   ]
  },
  {
   "cell_type": "code",
   "execution_count": 72,
   "metadata": {},
   "outputs": [
    {
     "data": {
      "text/plain": [
       "(np.float64(4164.80627586312), np.float64(4185.195926227314))"
      ]
     },
     "execution_count": 72,
     "metadata": {},
     "output_type": "execute_result"
    }
   ],
   "source": [
    "# WB Temp calculation\n",
    "CM = CM2\n",
    "# CM = interpolateMatrix(2870,6500,3050,CM1,CM2)\n",
    "\n",
    "XYZ2Camera = CM # AB * CM\n",
    "Camer2XYZ = np.linalg.inv(CM) # inv(CM)  * inv(AB) \n",
    "# XYZ white point = Camer2XYZ * Camera netural point\n",
    "# Camera netural point is (1/Camera WB) just CameraRGB response\n",
    "XYZ_wp = Camer2XYZ @ cameraNetural\n",
    "\n",
    "x,y,Y = XYZ2xyY(XYZ_wp)\n",
    "xy2Temp(x,y),xyCoordToTemperature([x,y])"
   ]
  },
  {
   "cell_type": "code",
   "execution_count": 29,
   "metadata": {},
   "outputs": [
    {
     "data": {
      "text/plain": [
       "array([0.99999995, 0.9999999 , 1.00000005])"
      ]
     },
     "execution_count": 29,
     "metadata": {},
     "output_type": "execute_result"
    }
   ],
   "source": [
    "#https://www.russellcottrell.com/photo/matrixCalculator.htm\n",
    "\n",
    "# D50 XYZ 2 sRGB\n",
    "XYZ2RGB = np.array(\n",
    "[[ 3.1342599, -1.6171978, -0.4906852],\n",
    " [-0.9787551,  1.9161350,  0.0334462],\n",
    " [ 0.0719423, -0.2289582,  1.4052060]])\n",
    "\n",
    "XYZ2RGB @ [0.96422,\t1.00000,\t0.82521] #should be [1,1,1]"
   ]
  },
  {
   "cell_type": "code",
   "execution_count": 73,
   "metadata": {},
   "outputs": [],
   "source": [
    "# Forward Matrix\n",
    "FM = FM2\n",
    "D = np.diag(cameraWB)\n",
    "Camera2XYZD50 = FM @ D\n",
    "\n",
    "vector, invf = im2vector(img) # [N,3]\n",
    "\n",
    "wb_img = D @ vector.T # AWBed CameraRGB\n",
    "XYZ_img = Camera2XYZD50 @ vector.T # [3,N] in D50\n",
    "sRGB_img = XYZ2RGB @ XYZ_img # linear RGB\n"
   ]
  },
  {
   "cell_type": "code",
   "execution_count": 61,
   "metadata": {},
   "outputs": [
    {
     "name": "stderr",
     "output_type": "stream",
     "text": [
      "Clipping input data to the valid range for imshow with RGB data ([0..1] for floats or [0..255] for integers). Got range [0.0..1.015437].\n",
      "Clipping input data to the valid range for imshow with RGB data ([0..1] for floats or [0..255] for integers). Got range [0.0..2.4469810269223062].\n"
     ]
    }
   ],
   "source": [
    "fig, axs = plt.subplots(2, 2, figsize=(10, 10))\n",
    "\n",
    "# Plotting the first image\n",
    "axs[0, 0].imshow(img)\n",
    "axs[0, 0].set_title('Camera RGB (No gamma)')\n",
    "\n",
    "# Plotting the second image\n",
    "axs[0, 1].imshow(invf(gamma(wb_img.T)))\n",
    "axs[0, 1].set_title('AWB Camera RGB')\n",
    "\n",
    "# Plotting the third image\n",
    "axs[1, 0].imshow(invf(XYZ_img.T))\n",
    "axs[1, 0].set_title('XYZ D50')\n",
    "\n",
    "# Plotting the fourth image\n",
    "axs[1, 1].imshow(invf(gamma(sRGB_img.T)))\n",
    "axs[1, 1].set_title('sRGB')\n",
    "\n",
    "plt.show()"
   ]
  },
  {
   "cell_type": "code",
   "execution_count": 74,
   "metadata": {},
   "outputs": [],
   "source": [
    "# Test Different Colors\n",
    "\n",
    "color1 = FM1 @ wb_img # [N,3]\n",
    "color2 = FM2 @ wb_img\n",
    "\n",
    "RGB1 = gamma(XYZ2RGB @ color1).T # linear RGB > sRGB\n",
    "RGB2 = gamma(XYZ2RGB @ color2).T\n",
    "\n",
    "RGBC = gamma(wb_img).T\n",
    "\n",
    "\n"
   ]
  },
  {
   "cell_type": "code",
   "execution_count": 75,
   "metadata": {},
   "outputs": [
    {
     "data": {
      "text/plain": [
       "Text(0.5, 1.0, 'FM1 sRGB')"
      ]
     },
     "execution_count": 75,
     "metadata": {},
     "output_type": "execute_result"
    }
   ],
   "source": [
    "fig, axs = plt.subplots(2, 2, figsize=(10, 10))\n",
    "\n",
    "# Plotting the second image\n",
    "axs[0, 0].imshow(invf(RGBC))\n",
    "axs[0, 0].set_title('AWB Camera RGB')\n",
    "\n",
    "# Plotting the first image\n",
    "axs[0, 1].imshow(invf(RGB2))\n",
    "axs[0, 1].set_title('FM2 sRGB')\n",
    "\n",
    "# Plotting the third image\n",
    "axs[1, 0].imshow(invf(RGB1))\n",
    "axs[1, 0].set_title('FM1 sRGB')"
   ]
  },
  {
   "cell_type": "code",
   "execution_count": 78,
   "metadata": {},
   "outputs": [
    {
     "data": {
      "text/plain": [
       "array([[ 1.11961491,  0.03195207, -0.15131139],\n",
       "       [-0.11214449,  1.12796062, -0.01589487],\n",
       "       [ 0.09576729, -0.15242567,  1.05665014]])"
      ]
     },
     "execution_count": 78,
     "metadata": {},
     "output_type": "execute_result"
    }
   ],
   "source": [
    "# PLay with FM\n",
    "\n",
    "XYZ2RGB @ FM1"
   ]
  },
  {
   "cell_type": "code",
   "execution_count": 53,
   "metadata": {},
   "outputs": [
    {
     "data": {
      "text/plain": [
       "<matplotlib.image.AxesImage at 0x1d5a3c37c10>"
      ]
     },
     "execution_count": 53,
     "metadata": {},
     "output_type": "execute_result"
    }
   ],
   "source": [
    "plt.figure()\n",
    "plt.imshow(invf(gamma(wb_img.T)))\n",
    "plt.title(\"AWB Camera RGB\")\n",
    "print(wb_img.max(),wb_img.min())"
   ]
  },
  {
   "cell_type": "code",
   "execution_count": 77,
   "metadata": {},
   "outputs": [
    {
     "data": {
      "text/plain": [
       "array([[ 0.9035127 ,  0.04414464,  0.05296076],\n",
       "       [-0.01299502,  1.05110494, -0.03828987],\n",
       "       [ 0.12542724, -0.1427752 ,  1.01720638]])"
      ]
     },
     "execution_count": 77,
     "metadata": {},
     "output_type": "execute_result"
    }
   ],
   "source": [
    "XYZ2RGB @ FM"
   ]
  },
  {
   "cell_type": "code",
   "execution_count": null,
   "metadata": {},
   "outputs": [],
   "source": []
  }
 ],
 "metadata": {
  "kernelspec": {
   "display_name": "Python 3",
   "language": "python",
   "name": "python3"
  },
  "language_info": {
   "codemirror_mode": {
    "name": "ipython",
    "version": 3
   },
   "file_extension": ".py",
   "mimetype": "text/x-python",
   "name": "python",
   "nbconvert_exporter": "python",
   "pygments_lexer": "ipython3",
   "version": "3.11.7"
  }
 },
 "nbformat": 4,
 "nbformat_minor": 2
}
