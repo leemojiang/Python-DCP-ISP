{
 "cells": [
  {
   "cell_type": "code",
   "execution_count": 2,
   "metadata": {},
   "outputs": [],
   "source": [
    "import numpy as np\n",
    "import xml.etree.ElementTree as ET\n"
   ]
  },
  {
   "cell_type": "code",
   "execution_count": null,
   "metadata": {},
   "outputs": [],
   "source": [
    "# FM Forward Matrix\n",
    "# CM Color Matrix\n"
   ]
  },
  {
   "cell_type": "code",
   "execution_count": 13,
   "metadata": {},
   "outputs": [],
   "source": [
    "class DCPMatrixParser:\n",
    "    def __init__(self, file_path):\n",
    "        self.file_path = file_path\n",
    "        self.matrices = {}\n",
    "\n",
    "    def parse_matrices(self):\n",
    "        tree = ET.parse(self.file_path)\n",
    "        root = tree.getroot()\n",
    "        for matrix_elem in root.findall('*'):\n",
    "            if 'Matrix' in matrix_elem.tag:\n",
    "                matrix_name = matrix_elem.tag\n",
    "                rows = int(matrix_elem.attrib['Rows'])\n",
    "                cols = int(matrix_elem.attrib['Cols'])\n",
    "                matrix = np.zeros((rows, cols))\n",
    "                for element in matrix_elem.findall('Element'):\n",
    "                    row = int(element.attrib['Row'])\n",
    "                    col = int(element.attrib['Col'])\n",
    "                    value = float(element.text)\n",
    "                    matrix[row][col] = value\n",
    "                self.matrices[matrix_name] = matrix\n",
    "\n",
    "    def save_matrices(self, output_file_path):\n",
    "        tree = ET.parse(self.file_path)\n",
    "        root = tree.getroot()\n",
    "        for matrix_elem in root.findall('*'):\n",
    "            if matrix_elem.tag in self.matrices:\n",
    "                matrix = self.matrices[matrix_elem.tag]\n",
    "                for element in matrix_elem.findall('Element'):\n",
    "                    row = int(element.attrib['Row'])\n",
    "                    col = int(element.attrib['Col'])\n",
    "                    element.text = str(matrix[row][col])\n",
    "\n",
    "        tree.write(output_file_path, encoding='utf-8', xml_declaration=True)\n",
    "\n",
    "\n",
    "# Usage\n",
    "parser = DCPMatrixParser('E:\\摄影Photo软件工具\\DCP_Projects\\dcp转换工具20200618\\Sony ILCE-7RM2 Adobe Standard.xml')\n",
    "parser.parse_matrices()\n",
    "parser.matrices['ColorMatrix1'] = np.zeros((3,3))\n",
    "# Modify matrices if needed\n",
    "parser.save_matrices('./output.xml')"
   ]
  },
  {
   "cell_type": "code",
   "execution_count": 9,
   "metadata": {},
   "outputs": [],
   "source": []
  },
  {
   "cell_type": "code",
   "execution_count": 10,
   "metadata": {},
   "outputs": [
    {
     "data": {
      "text/plain": [
       "{'ColorMatrix1': array([[0., 0., 0.],\n",
       "        [0., 0., 0.],\n",
       "        [0., 0., 0.]]),\n",
       " 'ColorMatrix2': array([[ 0.6629, -0.19  , -0.0483],\n",
       "        [-0.4618,  1.2349,  0.255 ],\n",
       "        [-0.0622,  0.1381,  0.6514]]),\n",
       " 'ForwardMatrix1': array([[ 0.951 , -0.1409,  0.0151],\n",
       "        [-0.284 ,  1.0161,  0.2678],\n",
       "        [-0.0232,  0.2213,  0.7661]]),\n",
       " 'ForwardMatrix2': array([[5.405e-01, 2.586e-01, 1.653e-01],\n",
       "        [3.122e-01, 6.366e-01, 5.120e-02],\n",
       "        [1.445e-01, 2.000e-04, 6.804e-01]]),\n",
       " 'ReductionMatrix1': array([], shape=(0, 0), dtype=float64),\n",
       " 'ReductionMatrix2': array([], shape=(0, 0), dtype=float64)}"
      ]
     },
     "execution_count": 10,
     "metadata": {},
     "output_type": "execute_result"
    }
   ],
   "source": [
    "parser.matrices"
   ]
  },
  {
   "cell_type": "code",
   "execution_count": 3,
   "metadata": {},
   "outputs": [
    {
     "name": "stdout",
     "output_type": "stream",
     "text": [
      "[[ 0.6985 -0.2168 -0.0419]\n",
      " [-0.5016  1.3246  0.1928]\n",
      " [-0.0408  0.0981  0.7177]]\n"
     ]
    }
   ],
   "source": [
    "xml_data = '''\n",
    "<ColorMatrix1 Rows=\"3\" Cols=\"3\">\n",
    "    <Element Row=\"2\" Col=\"2\">0.717700</Element>\n",
    "    <Element Row=\"2\" Col=\"1\">0.098100</Element>\n",
    "    <Element Row=\"2\" Col=\"0\">-0.040800</Element>\n",
    "    <Element Row=\"1\" Col=\"2\">0.192800</Element>\n",
    "    <Element Row=\"1\" Col=\"1\">1.324600</Element>\n",
    "    <Element Row=\"1\" Col=\"0\">-0.501600</Element>\n",
    "    <Element Row=\"0\" Col=\"2\">-0.041900</Element>\n",
    "    <Element Row=\"0\" Col=\"1\">-0.216800</Element>\n",
    "    <Element Row=\"0\" Col=\"0\">0.698500</Element>\n",
    "</ColorMatrix1>\n",
    "'''\n",
    "\n",
    "# Parse XML data\n",
    "root = ET.fromstring(xml_data)\n",
    "rows = int(root.attrib['Rows'])\n",
    "cols = int(root.attrib['Cols'])\n",
    "matrix = np.zeros((rows, cols))\n",
    "\n",
    "for element in root.findall('Element'):\n",
    "    row = int(element.attrib['Row'])\n",
    "    col = int(element.attrib['Col'])\n",
    "    value = float(element.text)\n",
    "    matrix[row][col] = value\n",
    "\n",
    "print(matrix)"
   ]
  },
  {
   "cell_type": "code",
   "execution_count": 6,
   "metadata": {},
   "outputs": [
    {
     "data": {
      "text/plain": [
       "0"
      ]
     },
     "execution_count": 6,
     "metadata": {},
     "output_type": "execute_result"
    }
   ],
   "source": [
    "row"
   ]
  },
  {
   "cell_type": "code",
   "execution_count": 7,
   "metadata": {},
   "outputs": [],
   "source": [
    "# For sony CM1\n",
    "\n",
    "\n",
    "\n",
    "\n",
    "\n",
    "A = np.array([0.663700,0.203800,0.096800,0.276800,0.804300,-0.081200,0.025900,-0.216100,1.015300])\n",
    "A = A.reshape(3,3)"
   ]
  },
  {
   "cell_type": "code",
   "execution_count": 1,
   "metadata": {},
   "outputs": [
    {
     "ename": "NameError",
     "evalue": "name 'np' is not defined",
     "output_type": "error",
     "traceback": [
      "\u001b[1;31m---------------------------------------------------------------------------\u001b[0m",
      "\u001b[1;31mNameError\u001b[0m                                 Traceback (most recent call last)",
      "Cell \u001b[1;32mIn[1], line 1\u001b[0m\n\u001b[1;32m----> 1\u001b[0m x \u001b[38;5;241m=\u001b[39m \u001b[43mnp\u001b[49m\u001b[38;5;241m.\u001b[39marray([\u001b[38;5;241m1\u001b[39m,\u001b[38;5;241m1\u001b[39m,\u001b[38;5;241m1\u001b[39m])\n\u001b[0;32m      3\u001b[0m A\u001b[38;5;241m*\u001b[39mx\n",
      "\u001b[1;31mNameError\u001b[0m: name 'np' is not defined"
     ]
    }
   ],
   "source": [
    " <Element Row=\"2\" Col=\"2\">0.717700</Element>\n",
    "    <Element Row=\"2\" Col=\"1\">0.098100</Element>\n",
    "    <Element Row=\"2\" Col=\"0\">-0.040800</Element>\n",
    "    <Element Row=\"1\" Col=\"2\">0.192800</Element>\n",
    "    <Element Row=\"1\" Col=\"1\">1.324600</Element>\n",
    "    <Element Row=\"1\" Col=\"0\">-0.501600</Element>\n",
    "    <Element Row=\"0\" Col=\"2\">-0.041900</Element>\n",
    "    <Element Row=\"0\" Col=\"1\">-0.216800</Element>\n",
    "    <Element Row=\"0\" Col=\"0\">0.698500</Element>\n",
    "\n",
    "\n",
    "\n",
    "\n"
   ]
  },
  {
   "cell_type": "code",
   "execution_count": 10,
   "metadata": {},
   "outputs": [
    {
     "data": {
      "text/plain": [
       "(3,)"
      ]
     },
     "execution_count": 10,
     "metadata": {},
     "output_type": "execute_result"
    }
   ],
   "source": [
    "x.shape"
   ]
  },
  {
   "cell_type": "code",
   "execution_count": null,
   "metadata": {},
   "outputs": [],
   "source": []
  }
 ],
 "metadata": {
  "kernelspec": {
   "display_name": "Python 3",
   "language": "python",
   "name": "python3"
  },
  "language_info": {
   "codemirror_mode": {
    "name": "ipython",
    "version": 3
   },
   "file_extension": ".py",
   "mimetype": "text/x-python",
   "name": "python",
   "nbconvert_exporter": "python",
   "pygments_lexer": "ipython3",
   "version": "3.11.7"
  }
 },
 "nbformat": 4,
 "nbformat_minor": 2
}
