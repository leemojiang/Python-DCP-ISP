{
 "cells": [
  {
   "cell_type": "code",
   "execution_count": null,
   "metadata": {},
   "outputs": [],
   "source": [
    "import numpy as np\n",
    "from DCP import *\n",
    "\n",
    "%load_ext autoreload\n",
    "%autoreload 2\n"
   ]
  },
  {
   "cell_type": "markdown",
   "metadata": {},
   "source": [
    "## PLaying With DCP Matrix\n",
    "\n",
    "FM Forward Matrix\n",
    "\n",
    "CM Color Matrix\n",
    "\n",
    "AB Anology Balance "
   ]
  },
  {
   "cell_type": "code",
   "execution_count": null,
   "metadata": {},
   "outputs": [],
   "source": [
    "parser = DCPParser('.\\data\\Sony ILCE-7RM2 Adobe Standard.xml')\n",
    "parser.parse_matrices()\n",
    "CM1 = parser.matrices['ColorMatrix1']\n",
    "CM2 = parser.matrices['ColorMatrix2']\n",
    "FM1 = parser.matrices['ForwardMatrix1']\n",
    "FM2 = parser.matrices['ForwardMatrix2']\n",
    "\n",
    "CameraWB = np.array([2592.0, 1024.0, 1556.0]) \n",
    "CameraN = 1/CameraWB\n",
    "# AB = np.diag([1.83203125,1.0       ,3.15234375])\n",
    "# BA = np.diag(1/np.array([1.83203125,1.0       ,3.15234375]))\n"
   ]
  },
  {
   "cell_type": "code",
   "execution_count": null,
   "metadata": {},
   "outputs": [],
   "source": [
    "# Color Matrix Properties\n",
    "# WB Temp calculation\n",
    "CM = CM2\n",
    "# CM = interpolateMatrix(2870,6500,3050,CM1,CM2)\n",
    "\n",
    "XYZ2Camera = CM # AB * CM\n",
    "Camer2XYZ = np.linalg.inv(CM) # inv(CM)  * inv(AB) \n",
    "# XYZ white point = Camer2XYZ * Camera netural point\n",
    "# Camera netural point is (1/Camera WB) just CameraRGB response to white/netural\n",
    "XYZ_wp = Camer2XYZ @ CameraN\n",
    "\n",
    "x,y,Y = XYZ2xyY(XYZ_wp)\n",
    "print(f\"Color Temp {xy2Temp(x,y),xyCoordToTemperature([x,y])}\") \n"
   ]
  },
  {
   "cell_type": "code",
   "execution_count": null,
   "metadata": {},
   "outputs": [],
   "source": [
    "# Forawrd Matrix Properties\n",
    "# Should be D50 in XYZ\n",
    "print(FM1 @ [1,1,1]) # D50 in XYZ\n",
    "print(FM2 @ [1,1,1]) # D50 in XYZ"
   ]
  },
  {
   "cell_type": "markdown",
   "metadata": {},
   "source": [
    "# DCP ISP process"
   ]
  },
  {
   "cell_type": "code",
   "execution_count": null,
   "metadata": {},
   "outputs": [],
   "source": [
    "import matplotlib.pyplot as plt\n",
    "import numpy as np\n",
    "from ISP import *\n",
    "from DCP import *\n",
    "\n",
    "# %matplotlib notebook\n",
    "%matplotlib qt5\n",
    "\n",
    "%load_ext autoreload\n",
    "%autoreload 2\n"
   ]
  },
  {
   "cell_type": "code",
   "execution_count": null,
   "metadata": {},
   "outputs": [],
   "source": [
    "img,H_raw = read_raw_simple(\"./data/0.ARW\")\n",
    "\n",
    "path ='./data/Sony ILCE-7RM2 Adobe Standard.xml'\n",
    "# path = './data/Olympus E-M1 Mark III Adobe Standard.xml'\n",
    "\n",
    "parser = DCPParser(path)\n",
    "parser.parse_matrices()\n",
    "CM1 = parser.matrices['ColorMatrix1']\n",
    "CM2 = parser.matrices['ColorMatrix2']\n",
    "FM1 = parser.matrices['ForwardMatrix1']\n",
    "FM2 = parser.matrices['ForwardMatrix2']\n",
    "\n",
    "# Camera AWB\n",
    "R_gain,G_gain,B_gain = H_raw.camera_whitebalance[0:3]\n",
    "cameraWB = np.array([R_gain/G_gain,1,B_gain/G_gain])\n",
    "cameraNetural = 1/cameraWB # Actuall is the RGB vector represent white"
   ]
  },
  {
   "cell_type": "code",
   "execution_count": null,
   "metadata": {},
   "outputs": [],
   "source": [
    "# WB Temp calculation\n",
    "CM = CM1\n",
    "CM = interpolateMatrix(2870,6500,3050,CM1,CM2)\n",
    "\n",
    "XYZ2Camera = CM # AB * CM\n",
    "Camer2XYZ = np.linalg.inv(CM) # inv(CM)  * inv(AB) \n",
    "# XYZ white point = Camer2XYZ * Camera netural point\n",
    "# Camera netural point is (1/Camera WB) just CameraRGB response\n",
    "XYZ_wp = Camer2XYZ @ cameraNetural\n",
    "\n",
    "x,y,Y = XYZ2xyY(XYZ_wp)\n",
    "xy2Temp(x,y),xyCoordToTemperature([x,y])"
   ]
  },
  {
   "cell_type": "code",
   "execution_count": null,
   "metadata": {},
   "outputs": [],
   "source": [
    "# D50 XYZ 2 sRGB D65\n",
    "#https://www.russellcottrell.com/photo/matrixCalculator.htm\n",
    "XYZ2RGB = np.array(\n",
    "[[ 3.1342599, -1.6171978, -0.4906852],\n",
    " [-0.9787551,  1.9161350,  0.0334462],\n",
    " [ 0.0719423, -0.2289582,  1.4052060]])\n",
    "\n",
    "XYZ2RGB @ [0.96422,\t1.00000,\t0.82521] # XYZ2RGB * D50XYZ should be [1,1,1]"
   ]
  },
  {
   "cell_type": "code",
   "execution_count": null,
   "metadata": {},
   "outputs": [],
   "source": [
    "# Forward Matrix\n",
    "FM = FM2\n",
    "D = np.diag(cameraWB)\n",
    "Camera2XYZD50 = FM @ D\n",
    "\n",
    "vector, invf = im2vector(img) # [N,3]\n",
    "\n",
    "wb_img = D @ vector.T # AWBed CameraRGB\n",
    "XYZ_img = Camera2XYZD50 @ vector.T # [3,N] in D50\n",
    "sRGB_img = XYZ2RGB @ XYZ_img # linear RGB\n"
   ]
  },
  {
   "cell_type": "code",
   "execution_count": null,
   "metadata": {},
   "outputs": [],
   "source": [
    "fig, axs = plt.subplots(2, 2, figsize=(10, 10))\n",
    "\n",
    "# Plotting the first image\n",
    "axs[0, 0].imshow(img)\n",
    "axs[0, 0].set_title('Camera RGB (No gamma)')\n",
    "\n",
    "# Plotting the second image\n",
    "axs[0, 1].imshow(invf(gamma(wb_img.T)))\n",
    "axs[0, 1].set_title('AWB Camera RGB')\n",
    "\n",
    "# Plotting the third image\n",
    "axs[1, 0].imshow(invf(XYZ_img.T))\n",
    "axs[1, 0].set_title('XYZ D50')\n",
    "\n",
    "# Plotting the fourth image\n",
    "axs[1, 1].imshow(invf(gamma(sRGB_img.T)))\n",
    "axs[1, 1].set_title('sRGB')\n",
    "\n",
    "plt.show()"
   ]
  },
  {
   "cell_type": "code",
   "execution_count": null,
   "metadata": {},
   "outputs": [],
   "source": [
    "# Test Different Colors\n",
    "\n",
    "color1 = FM1 @ wb_img # [N,3]\n",
    "color2 = FM2 @ wb_img\n",
    "\n",
    "RGB1 = gamma(XYZ2RGB @ color1).T # linear RGB > sRGB\n",
    "RGB2 = gamma(XYZ2RGB @ color2).T\n",
    "\n",
    "RGBC = gamma(wb_img).T\n",
    "\n",
    "\n"
   ]
  },
  {
   "cell_type": "code",
   "execution_count": null,
   "metadata": {},
   "outputs": [],
   "source": [
    "fig, axs = plt.subplots(2, 2, figsize=(10, 10))\n",
    "\n",
    "# Plotting the second image\n",
    "axs[0, 0].imshow(invf(RGBC))\n",
    "axs[0, 0].set_title('AWB Camera RGB')\n",
    "\n",
    "# Plotting the first image\n",
    "axs[0, 1].imshow(invf(RGB2))\n",
    "axs[0, 1].set_title('FM2 sRGB')\n",
    "\n",
    "# Plotting the third image\n",
    "axs[1, 0].imshow(invf(RGB1))\n",
    "axs[1, 0].set_title('FM1 sRGB')\n",
    "\n",
    "axs[1, 1].imshow(invf(RGB1-RGB2))\n",
    "axs[1, 1].set_title('FM1 FM2 diff')"
   ]
  },
  {
   "cell_type": "code",
   "execution_count": null,
   "metadata": {},
   "outputs": [],
   "source": [
    "from PIL import Image  \n",
    "rgb_raw_img = Image.fromarray(np.uint8(invf(RGB1) * 255))  # 将像素值转换为 0-255 范围内的整数\n",
    "rgb_raw_img.save('./data/FM_RGB.jpg')  # 保存图片 "
   ]
  },
  {
   "cell_type": "code",
   "execution_count": null,
   "metadata": {},
   "outputs": [],
   "source": [
    "# PLay with FM\n",
    "\n",
    "XYZ2RGB @ FM1"
   ]
  },
  {
   "cell_type": "code",
   "execution_count": null,
   "metadata": {},
   "outputs": [],
   "source": [
    "plt.figure()\n",
    "plt.imshow(invf(gamma(wb_img.T)))\n",
    "plt.title(\"AWB Camera RGB\")\n",
    "print(wb_img.max(),wb_img.min())"
   ]
  },
  {
   "cell_type": "code",
   "execution_count": null,
   "metadata": {},
   "outputs": [],
   "source": [
    "XYZ2RGB @ FM"
   ]
  },
  {
   "cell_type": "code",
   "execution_count": null,
   "metadata": {},
   "outputs": [],
   "source": []
  }
 ],
 "metadata": {
  "kernelspec": {
   "display_name": "Python 3",
   "language": "python",
   "name": "python3"
  },
  "language_info": {
   "codemirror_mode": {
    "name": "ipython",
    "version": 3
   },
   "file_extension": ".py",
   "mimetype": "text/x-python",
   "name": "python",
   "nbconvert_exporter": "python",
   "pygments_lexer": "ipython3",
   "version": "3.11.7"
  }
 },
 "nbformat": 4,
 "nbformat_minor": 2
}
