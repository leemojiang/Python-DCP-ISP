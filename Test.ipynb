{
 "cells": [
  {
   "cell_type": "code",
   "execution_count": 13,
   "metadata": {},
   "outputs": [],
   "source": [
    "import matplotlib.pyplot as plt\n",
    "import numpy as np\n",
    "from main import *"
   ]
  },
  {
   "cell_type": "code",
   "execution_count": 14,
   "metadata": {},
   "outputs": [],
   "source": [
    "# %matplotlib notebook\n",
    "%matplotlib qt5"
   ]
  },
  {
   "cell_type": "code",
   "execution_count": 15,
   "metadata": {},
   "outputs": [
    {
     "name": "stdout",
     "output_type": "stream",
     "text": [
      "RAW Shape:(4032, 6032)\n",
      "OB 600 \n",
      " white_level 15311 \n",
      " MAX2800\n"
     ]
    },
    {
     "data": {
      "text/plain": [
       "<matplotlib.image.AxesImage at 0x1dca0e5fc10>"
      ]
     },
     "execution_count": 15,
     "metadata": {},
     "output_type": "execute_result"
    }
   ],
   "source": [
    "img = read_raw_simple(\"./nikon_D850.nef\")\n",
    "plt.imshow(img)"
   ]
  },
  {
   "cell_type": "code",
   "execution_count": 32,
   "metadata": {},
   "outputs": [
    {
     "name": "stdout",
     "output_type": "stream",
     "text": [
      "[1024.25362684 1204.75439211 1385.25515739 1565.75592266 1746.25668793\n",
      " 1926.7574532  1031.86000346 1211.64091038 1391.42181731 1571.20272423\n",
      " 1750.98363116 1930.76453808 1039.46638007 1218.52742865 1397.58847723\n",
      " 1576.6495258  1755.71057438 1934.77162296 1047.07275668 1225.41394691\n",
      " 1403.75513715 1582.09632738 1760.43751761 1938.77870784]\n",
      "[ 520.97013042  633.73836368  746.50659694  859.27483021  972.04306347\n",
      " 1084.81129673  870.56631021  950.14247306 1029.71863591 1109.29479875\n",
      " 1188.8709616  1268.44712445 1220.16249    1266.54658244 1312.93067487\n",
      " 1359.3147673  1405.69885973 1452.08295217 1569.75866979 1582.95069181\n",
      " 1596.14271383 1609.33473585 1622.52675787 1635.71877988]\n",
      "33.415920772306784\n"
     ]
    },
    {
     "data": {
      "text/plain": [
       "(array([[0.0036941 , 0.00811451, 0.00647175],\n",
       "        [0.01714766, 0.03225225, 0.02437791],\n",
       "        [0.00094155, 0.00202971, 0.00165346],\n",
       "        [0.00073005, 0.0015609 , 0.00130435],\n",
       "        [0.00088813, 0.00185844, 0.00154085],\n",
       "        [0.00736901, 0.02484988, 0.01776432],\n",
       "        [0.00054592, 0.00114861, 0.00096129],\n",
       "        [0.00082587, 0.00171238, 0.00138937],\n",
       "        [0.00070979, 0.00146895, 0.00122028],\n",
       "        [0.00457453, 0.01130214, 0.00447464],\n",
       "        [0.01530443, 0.03417203, 0.03946025],\n",
       "        [0.02641323, 0.03178373, 0.00647089],\n",
       "        [0.00197884, 0.00297817, 0.00198189],\n",
       "        [0.00263779, 0.0077767 , 0.01287733],\n",
       "        [0.02050244, 0.01302933, 0.00907079],\n",
       "        [0.00388341, 0.00614207, 0.00976085],\n",
       "        [0.01272337, 0.01902569, 0.01194219],\n",
       "        [0.00662888, 0.03326491, 0.03791673],\n",
       "        [0.0082924 , 0.0181188 , 0.01505642],\n",
       "        [0.01379793, 0.02968338, 0.02269753],\n",
       "        [0.01565622, 0.03359412, 0.02564852],\n",
       "        [0.01054426, 0.02214245, 0.01674191],\n",
       "        [0.00366396, 0.00781511, 0.00613364],\n",
       "        [0.00094218, 0.00192216, 0.00161161]]),\n",
       " array([[0.00737662, 0.01597728, 0.01279125],\n",
       "        [0.01466623, 0.0274358 , 0.02075442],\n",
       "        [0.00026545, 0.00051375, 0.00044088],\n",
       "        [0.00023453, 0.00041146, 0.00037688],\n",
       "        [0.00027814, 0.00052579, 0.00039833],\n",
       "        [0.00850339, 0.02967141, 0.02066202],\n",
       "        [0.00016159, 0.00022766, 0.0002177 ],\n",
       "        [0.00035075, 0.00066773, 0.00051275],\n",
       "        [0.00020849, 0.00032639, 0.00029271],\n",
       "        [0.00260989, 0.0065464 , 0.00202585],\n",
       "        [0.00075784, 0.00200738, 0.00331932],\n",
       "        [0.01695524, 0.01956098, 0.00318396],\n",
       "        [0.00220536, 0.00236275, 0.00100843],\n",
       "        [0.00212797, 0.0077097 , 0.01493459],\n",
       "        [0.01011163, 0.00563064, 0.00373334],\n",
       "        [0.00078882, 0.00115561, 0.00256651],\n",
       "        [0.01151021, 0.02187658, 0.01055321],\n",
       "        [0.00043621, 0.00107151, 0.00099856],\n",
       "        [0.01938152, 0.04079936, 0.03011673],\n",
       "        [0.01860469, 0.03938011, 0.0294997 ],\n",
       "        [0.01179679, 0.02491272, 0.01838591],\n",
       "        [0.00302633, 0.00603817, 0.00424619],\n",
       "        [0.00026165, 0.00023866, 0.00032292],\n",
       "        [0.00015786, 0.00015727, 0.00018904]]),\n",
       " [(np.float64(930.0200913133008), np.float64(281.48990628702404)),\n",
       "  (np.float64(2015.1842579826), np.float64(1057.675517107541)),\n",
       "  (np.float64(2029.7728808119887), np.float64(1725.8346871474166)),\n",
       "  (np.float64(961.8853144603504), np.float64(1746.25876628599))],\n",
       " <matplotlib.image.AxesImage at 0x1dca717e0d0>,\n",
       " <Figure size 1200x750 with 1 Axes>)"
      ]
     },
     "execution_count": 32,
     "metadata": {},
     "output_type": "execute_result"
    }
   ],
   "source": [
    "def impoly(img,poly_position=None): #四边形框选图像ROI\n",
    "    \"(rgb_mean,rgb_std,poly_position)=impoly(img)\\n(rgb_mean,rgb_std,poly_position)=impoly(img,poly_position)\"\n",
    "    import matplotlib.pyplot as plt\n",
    "    if poly_position is None:\n",
    "        fig=plt.figure(figsize=[12.,7.5],tight_layout=True)\n",
    "        h_img=plt.imshow(img)\n",
    "        fig.show()\n",
    "        # fig.canvas.set_window_title('waiting. ..')\n",
    "        fig.canvas.manager.set_window_title('waiting. ..')\n",
    "        pos=plt.ginput(n=4)\n",
    "        # plt.close(fig)\n",
    "        print(pos)\n",
    "    else:\n",
    "        pos=poly_position\n",
    "    plt.waitforbuttonpress()\n",
    "    (n,m)=np.meshgrid(np.arange(0.5,6.5)/6,np.arange(0.5,4.5)/4)\n",
    "    n=n.flatten()\n",
    "    m=m.flatten()\n",
    "    x_center=(1-m)*((1-n)*pos[0][0]+n*pos[1][0])+m*(n*pos[2][0]+(1-n)*pos[3][0])\n",
    "    y_center=(1-m)*((1-n)*pos[0][1]+n*pos[1][1])+m*(n*pos[2][1]+(1-n)*pos[3][1])\n",
    "    r_sample=min([\n",
    "        ((pos[0][0]-pos[1][0])**2+(pos[0][1]-pos[1][1])**2)**0.5/6,\n",
    "        ((pos[1][0]-pos[2][0])**2+(pos[1][1]-pos[2][1])**2)**0.5/4,\n",
    "        ((pos[2][0]-pos[3][0])**2+(pos[2][1]-pos[3][1])**2)**0.5/6,\n",
    "        ((pos[3][0]-pos[0][0])**2+(pos[3][1]-pos[0][1])**2)**0.5/4,\n",
    "        ])*0.2\n",
    "    print(x_center)\n",
    "    print(y_center)\n",
    "    print(r_sample)\n",
    "    if poly_position is None:\n",
    "        plt.plot(pos[0][0],pos[0][1],'r+')\n",
    "        plt.plot(pos[1][0],pos[1][1],'r+')\n",
    "        plt.plot(pos[2][0],pos[2][1],'r+')\n",
    "        plt.plot(pos[3][0],pos[3][1],'r+')\n",
    "        # plt.plot(x_center,y_center,'yo')\n",
    "        plt.plot(x_center-r_sample,y_center-r_sample,'y+')\n",
    "        plt.plot(x_center+r_sample,y_center-r_sample,'y+')\n",
    "        plt.plot(x_center-r_sample,y_center+r_sample,'y+')\n",
    "        plt.plot(x_center+r_sample,y_center+r_sample,'y+')\n",
    "        plt.draw()\n",
    "        fig.show()\n",
    "        poly_position=pos\n",
    "    else:\n",
    "        pass\n",
    "    plt.waitforbuttonpress()\n",
    "    rgb_mean=np.zeros((24,3))   \n",
    "    rgb_std=np.zeros((24,3))   \n",
    "    for block_idx in range(24):\n",
    "        block=img[int(y_center[block_idx]-r_sample):int(y_center[block_idx]+r_sample),\n",
    "                  int(x_center[block_idx]-r_sample):int(x_center[block_idx]+r_sample),:]\n",
    "        rgb_vector,_=im2vector(block)\n",
    "        rgb_mean[block_idx,:]=rgb_vector.mean(axis=0)\n",
    "        rgb_std[block_idx,:]=rgb_vector.std(axis=0)\n",
    "    # plt.close(fig)\n",
    "    return (rgb_mean,rgb_std,poly_position,h_img,fig)\n",
    "\n",
    "impoly(img)"
   ]
  },
  {
   "cell_type": "code",
   "execution_count": 39,
   "metadata": {},
   "outputs": [
    {
     "name": "stdout",
     "output_type": "stream",
     "text": [
      "Select 2 points for a region to calculate WB, click to begin\n",
      "Select 2 corners with mouse\n",
      "Too few points, starting over\n",
      "Select 2 corners with mouse\n",
      "Block at X:1720 1816 Y:1276 1357 Total Pixel 7776\n",
      "Mean [0.001096   0.00230908 0.00189048]\n",
      "STD [0.00029311 0.0005414  0.00042384]\n",
      "Key click for quit, mouse click for extra data\n",
      "Select 2 corners with mouse\n",
      "Block at X:1564 1639 Y:1439 1522 Total Pixel 6225\n",
      "Mean [0.01652202 0.0350621  0.026484  ]\n",
      "STD [0.01178881 0.02491412 0.01844034]\n",
      "Key click for quit, mouse click for extra data\n",
      "Select 2 corners with mouse\n",
      "Block at X:1748 1792 Y:1451 1546 Total Pixel 4180\n",
      "Mean [0.00188272 0.00412612 0.00339005]\n",
      "STD [0.00243773 0.00538723 0.00411562]\n",
      "Key click for quit, mouse click for extra data\n"
     ]
    },
    {
     "data": {
      "text/plain": [
       "[([1720, 1816, 1276, 1357],\n",
       "  array([0.001096  , 0.00230908, 0.00189048], dtype=float32)),\n",
       " ([1564, 1639, 1439, 1522],\n",
       "  array([0.01652202, 0.0350621 , 0.026484  ], dtype=float32)),\n",
       " ([1748, 1792, 1451, 1546],\n",
       "  array([0.00188272, 0.00412612, 0.00339005], dtype=float32))]"
      ]
     },
     "execution_count": 39,
     "metadata": {},
     "output_type": "execute_result"
    }
   ],
   "source": [
    "def tellme(s):\n",
    "    print(s)\n",
    "    plt.title(s, fontsize=16)\n",
    "    plt.draw()\n",
    "\n",
    "def im2vector(img): #将图片转换为向量形式\n",
    "    '''\n",
    "        img [H,W,3]\n",
    "        rgb [H*W,3]\n",
    "        func_reverse reshape rgb to img\n",
    "    '''\n",
    "    size=img.shape\n",
    "    rgb=np.reshape(img,(size[0]*size[1],3))\n",
    "    func_reverse=lambda rgb : np.reshape(rgb,(size[0],size[1],size[2]))\n",
    "    return rgb, func_reverse    \n",
    "\n",
    "def manual_wb_area(img):\n",
    "    '''\n",
    "        img [H,W,3]\n",
    "\n",
    "        list of selected wb area ([xmin,xmax,ymin,ymax],rgb_mean)\n",
    "    '''\n",
    "    plt.figure()\n",
    "    plt.imshow(img)\n",
    "    \n",
    "    tellme(\"Select 2 points for a region to calculate WB, click to begin\")\n",
    "    plt.waitforbuttonpress()\n",
    "\n",
    "    wb_list = []\n",
    "\n",
    "    while True:\n",
    "        pts = []\n",
    "        while len(pts) < 2:\n",
    "            tellme('Select 2 corners with mouse')\n",
    "            pts = np.asarray(plt.ginput(2, timeout=-1))\n",
    "            if len(pts) < 2:\n",
    "                tellme('Too few points, starting over')\n",
    "                time.sleep(1)  # Wait a second\n",
    "        \n",
    "        xmin = int(min(pts[:,0]))\n",
    "        ymin = int(min(pts[:,1]))\n",
    "        xmax = int(max(pts[:,0]))\n",
    "        ymax = int(max(pts[:,1]))\n",
    "        \n",
    "        ph = plt.fill([xmin,xmax,xmax,xmin], [ymin,ymin,ymax,ymax], 'r', lw=2,alpha=0.3)\n",
    "        \n",
    "        block = img[xmin:xmax,ymin:ymax,:] #[H1,W1,3]\n",
    "        rgb_vector,_=im2vector(block) #[H1*W1,3]\n",
    "        rgb_mean=rgb_vector.mean(axis=0) #[3]\n",
    "        rgb_std=rgb_vector.std(axis=0) #[3]\n",
    "        \n",
    "        print(f\"Block at X:{xmin} {xmax} Y:{ymin} {ymax} Total Pixel {rgb_vector.shape[0]}\")\n",
    "        print(f\"Mean {rgb_mean}\")\n",
    "        print(f\"STD {rgb_std}\")\n",
    "\n",
    "        wb_list.append(([xmin,xmax,ymin,ymax],rgb_mean))\n",
    "\n",
    "        tellme('Key click for quit, mouse click for extra data')\n",
    "        if plt.waitforbuttonpress():\n",
    "            break\n",
    "\n",
    "        # # Get rid of fill\n",
    "        # for p in ph:\n",
    "        #     p.remove()\n",
    "\n",
    "    return wb_list\n",
    "\n",
    "manual_wb_area(img)\n"
   ]
  },
  {
   "cell_type": "code",
   "execution_count": 27,
   "metadata": {},
   "outputs": [
    {
     "name": "stdout",
     "output_type": "stream",
     "text": [
      "You will define a triangle, click to begin\n",
      "False\n",
      "[]\n",
      "Select 3 corners with mouse\n",
      "Happy? Key click for yes, mouse click for no\n"
     ]
    }
   ],
   "source": [
    "import time\n",
    "\n",
    "import numpy as np\n",
    "import matplotlib.pyplot as plt\n",
    "\n",
    "\n",
    "def tellme(s):\n",
    "    print(s)\n",
    "    plt.title(s, fontsize=16)\n",
    "    plt.draw()\n",
    "\n",
    "plt.figure()\n",
    "plt.xlim(0, 1)\n",
    "plt.ylim(0, 1)\n",
    "\n",
    "tellme('You will define a triangle, click to begin')\n",
    "\n",
    "print(plt.waitforbuttonpress())\n",
    "\n",
    "\n",
    "while True:\n",
    "    pts = []\n",
    "    while len(pts) < 3:\n",
    "        print(pts)\n",
    "        tellme('Select 3 corners with mouse')\n",
    "        pts = np.asarray(plt.ginput(3, timeout=-1))\n",
    "        if len(pts) < 3:\n",
    "            tellme('Too few points, starting over')\n",
    "            time.sleep(1)  # Wait a second\n",
    "\n",
    "    ph = plt.fill(pts[:, 0], pts[:, 1], 'r', lw=2)\n",
    "\n",
    "    tellme('Happy? Key click for yes, mouse click for no')\n",
    "\n",
    "    if plt.waitforbuttonpress():\n",
    "        break\n",
    "\n",
    "    # Get rid of fill\n",
    "    for p in ph:\n",
    "        p.remove()\n",
    "\n"
   ]
  },
  {
   "cell_type": "code",
   "execution_count": null,
   "metadata": {},
   "outputs": [
    {
     "name": "stdout",
     "output_type": "stream",
     "text": [
      "Use mouse to select contour label locations, middle button to finish\n",
      "Select label locations manually using first mouse button.\n",
      "End manual selection with second mouse button.\n",
      "Now do a nested zoom, click to begin\n",
      "Select two corners of zoom, middle mouse button to finish\n",
      "Select two corners of zoom, middle mouse button to finish\n",
      "All Done!\n"
     ]
    }
   ],
   "source": [
    "# Define a nice function of distance from individual pts\n",
    "def f(x, y, pts):\n",
    "    z = np.zeros_like(x)\n",
    "    for p in pts:\n",
    "        z = z + 1/(np.sqrt((x - p[0])**2 + (y - p[1])**2))\n",
    "    return 1/z\n",
    "\n",
    "\n",
    "X, Y = np.meshgrid(np.linspace(-1, 1, 51), np.linspace(-1, 1, 51))\n",
    "Z = f(X, Y, pts)\n",
    "\n",
    "CS = plt.contour(X, Y, Z, 20)\n",
    "\n",
    "tellme('Use mouse to select contour label locations, middle button to finish')\n",
    "CL = plt.clabel(CS, manual=True)\n",
    "\n",
    "tellme('Now do a nested zoom, click to begin')\n",
    "plt.waitforbuttonpress()\n",
    "\n",
    "while True:\n",
    "    tellme('Select two corners of zoom, middle mouse button to finish')\n",
    "    pts = plt.ginput(2, timeout=-1)\n",
    "    if len(pts) < 2:\n",
    "        break\n",
    "    (x0, y0), (x1, y1) = pts\n",
    "    xmin, xmax = sorted([x0, x1])\n",
    "    ymin, ymax = sorted([y0, y1])\n",
    "    plt.xlim(xmin, xmax)\n",
    "    plt.ylim(ymin, ymax)\n",
    "\n",
    "tellme('All Done!')\n",
    "plt.show()"
   ]
  },
  {
   "cell_type": "code",
   "execution_count": null,
   "metadata": {},
   "outputs": [],
   "source": [
    "plt.fill(pts[:, 0], pts[:, 1], 'b', lw=5)\n",
    "plt.show()"
   ]
  },
  {
   "cell_type": "code",
   "execution_count": null,
   "metadata": {},
   "outputs": [],
   "source": []
  }
 ],
 "metadata": {
  "kernelspec": {
   "display_name": "Python 3 (ipykernel)",
   "language": "python",
   "name": "python3"
  },
  "language_info": {
   "codemirror_mode": {
    "name": "ipython",
    "version": 3
   },
   "file_extension": ".py",
   "mimetype": "text/x-python",
   "name": "python",
   "nbconvert_exporter": "python",
   "pygments_lexer": "ipython3",
   "version": "3.11.7"
  }
 },
 "nbformat": 4,
 "nbformat_minor": 4
}
