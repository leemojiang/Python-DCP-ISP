{
 "cells": [
  {
   "cell_type": "code",
   "execution_count": null,
   "metadata": {},
   "outputs": [],
   "source": [
    "import matplotlib.pyplot as plt\n",
    "import numpy as np\n",
    "from ISP import *\n",
    "\n",
    "# To make plot interactable \n",
    "%matplotlib qt5\n",
    "\n",
    "%load_ext autoreload\n",
    "%autoreload 2\n"
   ]
  },
  {
   "cell_type": "markdown",
   "metadata": {},
   "source": [
    "## Load RAW"
   ]
  },
  {
   "cell_type": "code",
   "execution_count": null,
   "metadata": {},
   "outputs": [],
   "source": [
    "# img,H_raw = read_raw_simple(\"./data/0.ARW\")\n",
    "\n",
    "file_path = \"./data/0.ARW\"\n",
    "# 如果用 with rawpy.imread(file_path) as H_raw: 的写法 出了with block 会报错\n",
    "H_raw=rawpy.imread(file_path)\n",
    "# 读取raw data\n",
    "raw=H_raw.raw_image\n",
    "print(f\"RAW Shape:{raw.shape}\")\n",
    "\n",
    "# Information\n",
    "OB=H_raw.black_level_per_channel\n",
    "camera_white_level=H_raw.camera_white_level_per_channel\n",
    "white_level = H_raw.white_level\n",
    "print(f\"OB {OB} \\nWhite {white_level} \\nCamera white {camera_white_level} \\nMax pixel {raw.max()}\") #some pixel may be larger than white_level\n",
    "OB=OB[0]\n",
    "\n",
    "wb = H_raw.camera_whitebalance\n",
    "print(f\"Camera wb {wb}\")\n",
    "\n",
    "H_raw.color_matrix,\\\n",
    "H_raw.color_desc"
   ]
  },
  {
   "cell_type": "code",
   "execution_count": null,
   "metadata": {},
   "outputs": [],
   "source": [
    "# Plot RAW In Gray\n",
    "plt.figure()\n",
    "plt.figure(\"RAW\")\n",
    "plt.imshow(raw, cmap='gray')  # 使用灰度色彩映射绘制原始 RAW 数据\n",
    "plt.axis('off')  # 关闭坐标轴\n",
    "plt.show()\n"
   ]
  },
  {
   "cell_type": "code",
   "execution_count": null,
   "metadata": {},
   "outputs": [],
   "source": [
    "#Plot RAW in color Channal\n",
    "vis_raw = (raw-OB).astype(float)/(white_level-OB)\n",
    "\n",
    "zeros = np.zeros_like(vis_raw)\n",
    "rgb_raw = np.dstack([zeros,zeros,zeros])\n",
    "# rgb_raw.shape\n",
    "\n",
    "# 0,1,2 R G B\n",
    "# R channel \n",
    "rgb_raw[0::2,0::2,0] = vis_raw[0::2,0::2]\n",
    "# G1 G2 channal\n",
    "rgb_raw[0::2,1::2,1] = vis_raw[0::2,1::2]\n",
    "rgb_raw[1::2,0::2,1] = vis_raw[1::2,0::2]\n",
    "# B channal\n",
    "rgb_raw[1::2,1::2,2] = vis_raw[1::2,1::2]\n",
    "\n",
    "# Plot RAW In Gray\n",
    "plt.figure()\n",
    "plt.figure(\"Colored RAW\")\n",
    "plt.imshow(rgb_raw)  # 使用灰度色彩映射绘制原始 RAW 数据\n",
    "# plt.axis('off')  # 关闭坐标轴\n",
    "plt.show()\n",
    "\n",
    "# # 将 vis_raw 数组保存为图片\n",
    "# rgb_raw_img = Image.fromarray(np.uint8(rgb_raw * 255))  # 将像素值转换为 0-255 范围内的整数\n",
    "# rgb_raw_img.save('RGB_RAW.png')  # 保存图片 #需要用PNG格式 jpeg格式压缩后每个像素颜色就变了...."
   ]
  },
  {
   "cell_type": "markdown",
   "metadata": {},
   "source": [
    "## BLC & Bayer Demosaic\n"
   ]
  },
  {
   "cell_type": "code",
   "execution_count": null,
   "metadata": {},
   "outputs": [],
   "source": [
    "img=bayer_demosaic(raw)\n",
    "img=(img-OB).astype('float32')/(white_level-OB)\n",
    "img[img < 0] = 0"
   ]
  },
  {
   "cell_type": "code",
   "execution_count": null,
   "metadata": {},
   "outputs": [],
   "source": [
    "plt.figure()\n",
    "plt.title(\"Camera\\RAW RGB\")\n",
    "plt.imshow(img)"
   ]
  },
  {
   "cell_type": "code",
   "execution_count": null,
   "metadata": {},
   "outputs": [],
   "source": [
    "# Rawpy Demosaic (Not worrking)\n",
    "# To achieve only demosaicing without additional processing in rawpy, you can specify the no_auto_bright parameter as True and set other processing parameters to their default values. Here's an example code snippet:\n",
    "# img = H_raw.postprocess(demosaic_algorithm=rawpy.DemosaicAlgorithm.LINEAR, no_auto_bright=True,output_color=rawpy.ColorSpace.raw)\n"
   ]
  },
  {
   "cell_type": "markdown",
   "metadata": {},
   "source": [
    "## AWB"
   ]
  },
  {
   "cell_type": "code",
   "execution_count": null,
   "metadata": {},
   "outputs": [],
   "source": [
    "# Camera AWB\n",
    "R_gain,G_gain,B_gain = H_raw.camera_whitebalance[0:3]\n",
    "c_AWB_gain = np.array([R_gain/G_gain,1,B_gain/G_gain])\n",
    "# c_AWB_gain = c_AWB_gain / c_AWB_gain.max()\n",
    "\n",
    "print(f\"Camera AWB RGB Gain: {c_AWB_gain}\")\n",
    "awb_img_c =awb(img,c_AWB_gain,normalize=False)\n",
    "plt.figure()\n",
    "plt.title(f\"AWB {c_AWB_gain} Camera RAW\")\n",
    "plt.imshow(awb_img_c)"
   ]
  },
  {
   "cell_type": "code",
   "execution_count": null,
   "metadata": {},
   "outputs": [],
   "source": [
    "# # Hand Select white balance\n",
    "# # area_list = manual_wb_area(img)\n",
    "\n",
    "# # xmin,xmax,ymin,ymax = area_list[0][0]\n",
    "# # block = img[ymin:ymax,xmin:xmax,:] #[H1,W1,3]\n",
    "# # rgb_vector,_=im2vector(block) #[H1*W1,3]\n",
    "# # rgb_mean=rgb_vector.mean(axis=0) #[3]\n",
    "# # plt.figure()\n",
    "# # plt.imshow(block)\n",
    "\n",
    "# _,rgb_mean = area_list[2]\n",
    "# R_g,G_g,B_g = rgb_mean\n",
    "# rgb_gain = [G_g/R_g,1,G_g/B_g]\n",
    "# print(f\"Maunal AWB RGB Gain: {rgb_gain}\")\n",
    "# awb_img =awb(img,rgb_gain,normalize=False)\n",
    "\n",
    "# plt.figure()\n",
    "# plt.title(f\"Hand AWB {rgb_gain}\")\n",
    "# plt.imshow(awb_img)"
   ]
  },
  {
   "cell_type": "markdown",
   "metadata": {},
   "source": [
    "## Gamma"
   ]
  },
  {
   "cell_type": "code",
   "execution_count": null,
   "metadata": {},
   "outputs": [],
   "source": [
    "plt.figure()\n",
    "plt.title(\"Correction After Gamma\")\n",
    "plt.imshow(gamma(awb_img_c))"
   ]
  }
 ],
 "metadata": {
  "kernelspec": {
   "display_name": "Python 3",
   "language": "python",
   "name": "python3"
  },
  "language_info": {
   "codemirror_mode": {
    "name": "ipython",
    "version": 3
   },
   "file_extension": ".py",
   "mimetype": "text/x-python",
   "name": "python",
   "nbconvert_exporter": "python",
   "pygments_lexer": "ipython3",
   "version": "3.11.7"
  }
 },
 "nbformat": 4,
 "nbformat_minor": 2
}
