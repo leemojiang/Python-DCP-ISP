{
 "cells": [
  {
   "cell_type": "code",
   "execution_count": 11,
   "metadata": {},
   "outputs": [
    {
     "data": {
      "text/plain": [
       "array([[ 1.04781122,  0.02288666, -0.050127  ],\n",
       "       [ 0.02954194,  0.99048447, -0.01704905],\n",
       "       [-0.00923454,  0.01504367,  0.75213169]])"
      ]
     },
     "execution_count": 11,
     "metadata": {},
     "output_type": "execute_result"
    }
   ],
   "source": [
    "# http://www.brucelindbloom.com/index.html?Eqn_XYZ_to_RGB.html\n",
    "\n",
    "import numpy as np\n",
    "\n",
    "AdobeD50_2_XYZ = np.array([\n",
    " 0.6097559,  0.2052401,  0.1492240,\n",
    " 0.311124,  0.6256560,  0.0632197,\n",
    " 0.0194811,  0.0608902 , 0.7448387]).reshape(3,3)\n",
    "\n",
    "XYZ_2_AdobeD65 = np.array([\n",
    " 2.0413690, -0.5649464, -0.3446944,\n",
    "-0.9692660,  1.8760108,  0.0415560,\n",
    " 0.0134474, -0.1183897,  1.0154096]).reshape(3,3)\n",
    "\n",
    "\n",
    "\n",
    "D50_2_D65 = AdobeD50_2_XYZ @ XYZ_2_AdobeD65\n",
    "\n",
    "D50_2_D65"
   ]
  },
  {
   "cell_type": "code",
   "execution_count": 14,
   "metadata": {},
   "outputs": [
    {
     "data": {
      "text/plain": [
       "array([[ 1.04781144,  0.02288643, -0.050127  ],\n",
       "       [ 0.02954249,  0.99048442, -0.01704907],\n",
       "       [-0.00923456,  0.01504362,  0.75213168]])"
      ]
     },
     "execution_count": 14,
     "metadata": {},
     "output_type": "execute_result"
    }
   ],
   "source": [
    "# AppleD50_2_XYZ = np.array([\n",
    "# ]).reshape(3,3)\n",
    "\n",
    "XYZ_2_AppleD65 = np.array([\n",
    " 2.9515373, -1.2894116, -0.4738445,\n",
    "-1.0851093,  1.9908566,  0.0372026,\n",
    " 0.0854934, -0.2694964,  1.0912975\n",
    "]).reshape(3,3)\n",
    "\n",
    "\n",
    "\n",
    "\n",
    "AppleD50_2_XYZ = np.array([\n",
    " 0.4755678,  0.3396722,  0.1489800,\n",
    " 0.2551812,  0.6725693,  0.0722496,\n",
    " 0.0184697,  0.1133771,  0.6933632]).reshape(3,3)\n",
    "\n",
    "Apple_D50_2_D65 = AppleD50_2_XYZ @ XYZ_2_AppleD65\n",
    "Apple_D50_2_D65"
   ]
  },
  {
   "cell_type": "code",
   "execution_count": 21,
   "metadata": {},
   "outputs": [
    {
     "data": {
      "text/plain": [
       "array([0.96422  , 1.0000001, 0.82521  ])"
      ]
     },
     "execution_count": 21,
     "metadata": {},
     "output_type": "execute_result"
    }
   ],
   "source": [
    "AppleD50_2_XYZ @ [1,1,1]  # should be D50 XYZ coord\n"
   ]
  },
  {
   "cell_type": "code",
   "execution_count": 22,
   "metadata": {},
   "outputs": [
    {
     "data": {
      "text/plain": [
       "array([0.96422  , 0.9999997, 0.82521  ])"
      ]
     },
     "execution_count": 22,
     "metadata": {},
     "output_type": "execute_result"
    }
   ],
   "source": [
    "AdobeD50_2_XYZ @ [1,1,1]"
   ]
  },
  {
   "cell_type": "code",
   "execution_count": 24,
   "metadata": {},
   "outputs": [
    {
     "data": {
      "text/plain": [
       "array([0.99999995, 1.00000007, 0.99999997])"
      ]
     },
     "execution_count": 24,
     "metadata": {},
     "output_type": "execute_result"
    }
   ],
   "source": [
    "XYZ_2_AppleD65 @ [0.95047,\t1.00000,\t1.08883] #  D65 XYZ should be 1"
   ]
  },
  {
   "cell_type": "code",
   "execution_count": 27,
   "metadata": {},
   "outputs": [],
   "source": [
    "# https://www.russellcottrell.com/photo/matrixCalculator.htm\n",
    "\n",
    "RGB2XYZ = np.array(\n",
    "[[ 0.4866327,  0.2656632,  0.1981742],\n",
    " [ 0.2290036,  0.6917267,  0.0792697],\n",
    " [ 0.0000000,  0.0451126,  1.0437174]])\n",
    "\n",
    "source_dest_white =np.array(\n",
    "[[ 1.0478400,  0.0228979, -0.0501808],\n",
    " [ 0.0295537,  0.9904924, -0.0170663],\n",
    " [-0.0092459,  0.0150633,  0.7518389]]\n",
    ")\n",
    "\n",
    "XYZ2RGB = np.array(\n",
    "[[ 2.4931808, -0.9312655, -0.4026597],\n",
    " [-0.8295031,  1.7626941,  0.0236251],\n",
    " [ 0.0358536, -0.0761890,  0.9570926]]\n",
    "2)"
   ]
  },
  {
   "cell_type": "code",
   "execution_count": 33,
   "metadata": {},
   "outputs": [
    {
     "data": {
      "text/plain": [
       "array([0.96420002, 1.00000001, 0.8249001 ])"
      ]
     },
     "execution_count": 33,
     "metadata": {},
     "output_type": "execute_result"
    }
   ],
   "source": [
    "source_dest_white @ [0.95047,\t1.00000,\t1.08883]"
   ]
  },
  {
   "cell_type": "code",
   "execution_count": 31,
   "metadata": {},
   "outputs": [
    {
     "data": {
      "text/plain": [
       "array([[ 2.59166153, -0.93163202, -0.46940965],\n",
       "       [-0.74854569,  1.71971303, -0.00483363],\n",
       "       [-0.00859062, -0.02211948,  0.72365827]])"
      ]
     },
     "execution_count": 31,
     "metadata": {},
     "output_type": "execute_result"
    }
   ],
   "source": [
    "source_dest_white @ XYZ2RGB"
   ]
  },
  {
   "cell_type": "code",
   "execution_count": null,
   "metadata": {},
   "outputs": [],
   "source": []
  }
 ],
 "metadata": {
  "kernelspec": {
   "display_name": "Python 3",
   "language": "python",
   "name": "python3"
  },
  "language_info": {
   "codemirror_mode": {
    "name": "ipython",
    "version": 3
   },
   "file_extension": ".py",
   "mimetype": "text/x-python",
   "name": "python",
   "nbconvert_exporter": "python",
   "pygments_lexer": "ipython3",
   "version": "3.11.7"
  }
 },
 "nbformat": 4,
 "nbformat_minor": 2
}
