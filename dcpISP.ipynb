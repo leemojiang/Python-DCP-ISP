{
 "cells": [
  {
   "cell_type": "code",
   "execution_count": 1,
   "metadata": {},
   "outputs": [],
   "source": [
    "import matplotlib.pyplot as plt\n",
    "import numpy as np\n",
    "from ISP import *\n",
    "from DCP import *\n",
    "import rawpy\n",
    "\n",
    "# %matplotlib notebook\n",
    "%matplotlib qt5\n",
    "\n",
    "%load_ext autoreload\n",
    "%autoreload 2"
   ]
  },
  {
   "cell_type": "code",
   "execution_count": 2,
   "metadata": {},
   "outputs": [
    {
     "name": "stdout",
     "output_type": "stream",
     "text": [
      "RAW Shape:(5320, 8000)\n",
      "White level 16383 White level per channal [15360, 15360, 15360, 15360] Black level [512, 512, 512, 512]\n"
     ]
    }
   ],
   "source": [
    "# file_path = \"./data/nikon_D850.nef\"\n",
    "file_path = \"./data/0.ARW\"\n",
    "\n",
    "\n",
    "H_raw=rawpy.imread(file_path)\n",
    "\n",
    "# 读取raw data\n",
    "raw=H_raw.raw_image\n",
    "print(f\"RAW Shape:{raw.shape}\")\n",
    "\n",
    "OB=H_raw.black_level_per_channel[0]\n",
    "white_level = H_raw.white_level\n",
    "# white_level = H_raw.camera_white_level_per_channel[0]\n",
    "print(f\"White level {H_raw.white_level } White level per channal {H_raw.camera_white_level_per_channel} Black level {H_raw.black_level_per_channel}\")\n",
    "\n",
    "# Demosaic & BLC\n",
    "img=bayer_demosaic(raw)\n",
    "img[img<OB]=OB\n",
    "img=(img-OB).astype('float64')/(white_level-OB)\n",
    "img[img<0] = 0\n",
    "\n",
    "# Tone mapping\n",
    "# tone_curve = H_raw.tone_curve\n",
    "# num = tone_curve.shape[0] # shape [65536]\n",
    "# tone_curve = tone_curve.astype(float)/(num-1) \n",
    "\n",
    "# # Define some data points\n",
    "# x = np.array([1, 2, 3, 4, 5])\n",
    "# y = np.array([10, 20, 30, 40, 50])\n",
    "\n",
    "# # Define the range for interpolation\n",
    "# x_new = np.array([1.5, 2.5, 3.5, 4.5])\n",
    "\n",
    "# # Perform linear interpolation\n",
    "# y_new = np.interp(x_new, x, y)\n",
    "\n",
    "# x = np.linspace(0,4,num)\n",
    "# remapped_values = np.interp(img,x, tone_curve)\n",
    "\n",
    "# remapped_img = remapped_values\n"
   ]
  },
  {
   "cell_type": "code",
   "execution_count": 3,
   "metadata": {},
   "outputs": [
    {
     "name": "stdout",
     "output_type": "stream",
     "text": [
      "[1.83203125 1.         3.15234375]\n"
     ]
    }
   ],
   "source": [
    "# img,H_raw = read_raw_simple(\"./data/0.ARW\")\n",
    "\n",
    "path =r'.\\data\\Nikon D750 Adobe Standard.xml'\n",
    "# path = './data/Olympus E-M1 Mark III Adobe Standard.xml'\n",
    "# path = r'E:\\摄影Photo软件工具\\Py-ISP\\data\\Nikon D850 Adobe Standard.xml'\n",
    "\n",
    "parser = DCPParser(path)\n",
    "parser.parse_matrices()\n",
    "CM1 = parser.matrices['ColorMatrix1']\n",
    "CM2 = parser.matrices['ColorMatrix2']\n",
    "FM1 = parser.matrices['ForwardMatrix1']\n",
    "FM2 = parser.matrices['ForwardMatrix2']\n",
    "\n",
    "# Camera AWB\n",
    "R_gain,G_gain,B_gain = H_raw.camera_whitebalance[0:3]\n",
    "cameraWB = np.array([R_gain/G_gain,1,B_gain/G_gain])\n",
    "\n",
    "# cameraWB = np.array(H_raw.daylight_whitebalance[0:3])\n",
    "\n",
    "cameraNetural = 1/cameraWB # Actuall is the RGB vector represent white\n",
    "\n",
    "print(cameraWB)"
   ]
  },
  {
   "cell_type": "code",
   "execution_count": 8,
   "metadata": {},
   "outputs": [
    {
     "data": {
      "text/plain": [
       "array([[ 1.21386719, -0.20019531, -0.01464844],\n",
       "       [-0.03027344,  1.18066406, -0.15039062],\n",
       "       [ 0.04589844, -0.04589844,  1.        ]])"
      ]
     },
     "execution_count": 8,
     "metadata": {},
     "output_type": "execute_result"
    }
   ],
   "source": [
    "# CM from exif tool\n",
    "# 1243 -205 -15 -31 1209 -154 47 -47 1024\n",
    "CM3 = np.array([ [1243, -205, -15],[ -31, 1209, -154],[ 47, -47, 1024]]) /1024\n",
    "CM3"
   ]
  },
  {
   "cell_type": "code",
   "execution_count": 10,
   "metadata": {},
   "outputs": [
    {
     "data": {
      "text/plain": [
       "(np.float64(3689.0876814079106), np.float64(3709.877749933408))"
      ]
     },
     "execution_count": 10,
     "metadata": {},
     "output_type": "execute_result"
    }
   ],
   "source": [
    "# WB Temp calculation\n",
    "CM = CM1\n",
    "# CM = interpolateMatrix(2870,6500,3050,CM1,CM2)\n",
    "\n",
    "XYZ2Camera = CM # AB * CM\n",
    "Camer2XYZ = np.linalg.inv(CM) # inv(CM)  * inv(AB) \n",
    "# XYZ white point = Camer2XYZ * Camera netural point\n",
    "# Camera netural point is (1/Camera WB) just CameraRGB response\n",
    "XYZ_wp = Camer2XYZ @ cameraNetural\n",
    "\n",
    "x,y,Y = XYZ2xyY(XYZ_wp)\n",
    "xy2Temp(x,y),xyCoordToTemperature([x,y])"
   ]
  },
  {
   "cell_type": "code",
   "execution_count": 6,
   "metadata": {},
   "outputs": [
    {
     "data": {
      "text/plain": [
       "array([0.99999995, 0.9999999 , 1.00000005])"
      ]
     },
     "execution_count": 6,
     "metadata": {},
     "output_type": "execute_result"
    }
   ],
   "source": [
    "# D50 XYZ 2 sRGB D65\n",
    "#https://www.russellcottrell.com/photo/matrixCalculator.htm\n",
    "XYZ2RGB = np.array(\n",
    "[[ 3.1342599, -1.6171978, -0.4906852],\n",
    " [-0.9787551,  1.9161350,  0.0334462],\n",
    " [ 0.0719423, -0.2289582,  1.4052060]])\n",
    "\n",
    "XYZ2RGB @ [0.96422,\t1.00000,\t0.82521] # XYZ2RGB * D50XYZ should be [1,1,1]\n",
    "\n",
    "\n",
    "# XYZ to sRGB with D65 reference white\n",
    "# XYZ2RGB = np.array(\n",
    "# [[3.2404542, -1.5371385, -0.4985314],\n",
    "# [-0.9692660,  1.8760108,  0.0415560],\n",
    "# [ 0.0556434, -0.2040259,  1.0572252]])\n"
   ]
  },
  {
   "cell_type": "code",
   "execution_count": 11,
   "metadata": {},
   "outputs": [],
   "source": [
    "# Forward Matrix\n",
    "FM = FM2\n",
    "# CM = interpolateMatrix(2870,6500,3050,FM1,FM2)\n",
    "D = np.diag(cameraWB)\n",
    "Camera2XYZD50 = FM @ D\n",
    "\n",
    "vector, invf = im2vector(img) # [N,3]\n",
    "\n",
    "wb_img = D @ vector.T # AWBed CameraRGB\n",
    "XYZ_img = Camera2XYZD50 @ vector.T # [3,N] in D50\n",
    "linear_RGB_img = XYZ2RGB @ XYZ_img # linear RGB\n",
    "\n",
    "# Tone mapping\n",
    "    # tone_curve = H_raw.tone_curve\n",
    "    # num = tone_curve.shape[0] # shape [65536]\n",
    "    # tone_curve = tone_curve.astype(float)/(num-1) \n",
    "    # x = np.linspace(0,1,num)\n",
    "    # tonemapped_img = np.interp(linear_RGB_img,x, tone_curve)\n",
    "\n",
    "\n",
    "sRGB_img = gamma(linear_RGB_img ) # sRGB\n"
   ]
  },
  {
   "cell_type": "code",
   "execution_count": 12,
   "metadata": {},
   "outputs": [],
   "source": [
    "from PIL import Image  \n",
    "rgb_raw_img = Image.fromarray(np.uint8(invf(sRGB_img.T) * 255))  # 将像素值转换为 0-255 范围内的整数\n",
    "rgb_raw_img.save('./data/Nikon_FM2_RGB.jpg')  # 保存图片 "
   ]
  },
  {
   "cell_type": "code",
   "execution_count": null,
   "metadata": {},
   "outputs": [],
   "source": [
    "plt.figure()\n",
    "plt.imshow(invf(sRGB_img.T))\n",
    "# plt.imshow(invf(gamma(tonemapped_img).T))"
   ]
  },
  {
   "cell_type": "code",
   "execution_count": null,
   "metadata": {},
   "outputs": [],
   "source": [
    "fig, axs = plt.subplots(2, 2, figsize=(10, 10))\n",
    "\n",
    "# Plotting the first image\n",
    "axs[0, 0].imshow(img)\n",
    "axs[0, 0].set_title('Camera RGB (No gamma)')\n",
    "\n",
    "# Plotting the second image\n",
    "axs[0, 1].imshow(invf(gamma(wb_img.T)))\n",
    "axs[0, 1].set_title('AWB Camera RGB')\n",
    "\n",
    "# Plotting the third image\n",
    "axs[1, 0].imshow(invf(XYZ_img.T))\n",
    "axs[1, 0].set_title('XYZ D50')\n",
    "\n",
    "# Plotting the fourth image\n",
    "axs[1, 1].imshow(invf(gamma(sRGB_img.T)))\n",
    "axs[1, 1].set_title('sRGB')\n",
    "\n",
    "plt.show()"
   ]
  },
  {
   "cell_type": "code",
   "execution_count": null,
   "metadata": {},
   "outputs": [],
   "source": []
  }
 ],
 "metadata": {
  "kernelspec": {
   "display_name": "Python 3",
   "language": "python",
   "name": "python3"
  },
  "language_info": {
   "codemirror_mode": {
    "name": "ipython",
    "version": 3
   },
   "file_extension": ".py",
   "mimetype": "text/x-python",
   "name": "python",
   "nbconvert_exporter": "python",
   "pygments_lexer": "ipython3",
   "version": "3.11.7"
  }
 },
 "nbformat": 4,
 "nbformat_minor": 2
}
