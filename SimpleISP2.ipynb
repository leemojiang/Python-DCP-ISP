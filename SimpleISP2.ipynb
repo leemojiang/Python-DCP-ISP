{
 "cells": [
  {
   "cell_type": "code",
   "execution_count": 52,
   "metadata": {},
   "outputs": [
    {
     "name": "stdout",
     "output_type": "stream",
     "text": [
      "The autoreload extension is already loaded. To reload it, use:\n",
      "  %reload_ext autoreload\n"
     ]
    }
   ],
   "source": [
    "import matplotlib.pyplot as plt\n",
    "import numpy as np\n",
    "from main import *\n",
    "\n",
    "# %matplotlib notebook\n",
    "%matplotlib qt5\n",
    "\n",
    "%load_ext autoreload\n",
    "%autoreload 2\n"
   ]
  },
  {
   "cell_type": "code",
   "execution_count": 69,
   "metadata": {},
   "outputs": [
    {
     "name": "stdout",
     "output_type": "stream",
     "text": [
      "RAW Shape:(5320, 8000)\n",
      "OB 512 \n",
      " white_level 16383 \n",
      " MAX16628\n"
     ]
    }
   ],
   "source": [
    "img,H_raw = read_raw_simple(\"./0.ARW\")\n",
    "\n",
    "# \"E:\\临时摄影素材\\\\101MSDCF\\_DSC7524.ARW\""
   ]
  },
  {
   "cell_type": "code",
   "execution_count": 75,
   "metadata": {},
   "outputs": [
    {
     "name": "stderr",
     "output_type": "stream",
     "text": [
      "Clipping input data to the valid range for imshow with RGB data ([0..1] for floats or [0..255] for integers). Got range [0.0..1.015437].\n"
     ]
    },
    {
     "data": {
      "text/plain": [
       "<matplotlib.image.AxesImage at 0x1361ba608d0>"
      ]
     },
     "execution_count": 75,
     "metadata": {},
     "output_type": "execute_result"
    }
   ],
   "source": [
    "plt.imshow(img)"
   ]
  },
  {
   "cell_type": "code",
   "execution_count": 70,
   "metadata": {},
   "outputs": [
    {
     "data": {
      "text/plain": [
       "np.float32(1.015437)"
      ]
     },
     "execution_count": 70,
     "metadata": {},
     "output_type": "execute_result"
    }
   ],
   "source": [
    "img.max()"
   ]
  },
  {
   "cell_type": "markdown",
   "metadata": {},
   "source": [
    "## AWB"
   ]
  },
  {
   "cell_type": "code",
   "execution_count": 71,
   "metadata": {},
   "outputs": [
    {
     "name": "stdout",
     "output_type": "stream",
     "text": [
      "Camera AWB RGB Gain: [1.83203125 1.         3.15234375]\n"
     ]
    },
    {
     "name": "stderr",
     "output_type": "stream",
     "text": [
      "Clipping input data to the valid range for imshow with RGB data ([0..1] for floats or [0..255] for integers). Got range [0.0..3.2010064].\n"
     ]
    },
    {
     "data": {
      "text/plain": [
       "<matplotlib.image.AxesImage at 0x13611985f10>"
      ]
     },
     "execution_count": 71,
     "metadata": {},
     "output_type": "execute_result"
    }
   ],
   "source": [
    "# Camera AWB\n",
    "R_gain,G_gain,B_gain = H_raw.camera_whitebalance[0:3]\n",
    "c_AWB_gain = np.array([R_gain/G_gain,1,B_gain/G_gain])\n",
    "# c_AWB_gain = c_AWB_gain / c_AWB_gain.max()\n",
    "\n",
    "print(f\"Camera AWB RGB Gain: {c_AWB_gain}\")\n",
    "awb_img_c =awb(img,c_AWB_gain,normalize=False)\n",
    "plt.figure()\n",
    "plt.title(f\"Camera AWB {c_AWB_gain}\")\n",
    "plt.imshow(awb_img_c)"
   ]
  },
  {
   "cell_type": "code",
   "execution_count": 88,
   "metadata": {},
   "outputs": [
    {
     "name": "stdout",
     "output_type": "stream",
     "text": [
      "Select 2 points for a region to calculate WB, click to begin\n",
      "Select 2 corners with mouse\n",
      "Block at X:1230 1329 Y:1595 1695 Total Pixel 9900\n",
      "Mean [0.04404028 0.09281366 0.0693735 ]\n",
      "STD [0.00092531 0.00106138 0.00122291]\n",
      "Key click for quit, mouse click for extra data\n",
      "Select 2 corners with mouse\n",
      "Block at X:1400 1492 Y:1613 1686 Total Pixel 6716\n",
      "Mean [0.02628304 0.05557198 0.04157173]\n",
      "STD [0.00070027 0.00067674 0.00086805]\n",
      "Key click for quit, mouse click for extra data\n",
      "Select 2 corners with mouse\n",
      "Block at X:1560 1658 Y:1597 1688 Total Pixel 8918\n",
      "Mean [0.01163196 0.02424531 0.01817108]\n",
      "STD [0.00046252 0.0004542  0.00056942]\n",
      "Key click for quit, mouse click for extra data\n",
      "Finish\n",
      "Done\n"
     ]
    }
   ],
   "source": [
    "# Hand white balance\n",
    "area_list = manual_wb_area(img)\n",
    "\n",
    "# xmin,xmax,ymin,ymax = area_list[0][0]\n",
    "# block = img[ymin:ymax,xmin:xmax,:] #[H1,W1,3]\n",
    "# rgb_vector,_=im2vector(block) #[H1*W1,3]\n",
    "# rgb_mean=rgb_vector.mean(axis=0) #[3]\n",
    "# plt.figure()\n",
    "# plt.imshow(block)"
   ]
  },
  {
   "cell_type": "code",
   "execution_count": 126,
   "metadata": {},
   "outputs": [
    {
     "name": "stdout",
     "output_type": "stream",
     "text": [
      "Maunal AWB RGB Gain: [np.float32(2.08437), 1, np.float32(1.3342803)]\n"
     ]
    },
    {
     "data": {
      "text/plain": [
       "<matplotlib.image.AxesImage at 0x25829664fd0>"
      ]
     },
     "execution_count": 126,
     "metadata": {},
     "output_type": "execute_result"
    }
   ],
   "source": [
    "_,rgb_mean = area_list[2]\n",
    "R_g,G_g,B_g = rgb_mean\n",
    "rgb_gain = [G_g/R_g,1,G_g/B_g]\n",
    "print(f\"Maunal AWB RGB Gain: {rgb_gain}\")\n",
    "\n",
    "awb_img =awb(img,rgb_gain,normalize=False)\n",
    "\n",
    "plt.figure()\n",
    "plt.title(f\"Hand AWB {rgb_gain}\")\n",
    "plt.imshow(awb_img)"
   ]
  },
  {
   "cell_type": "markdown",
   "metadata": {},
   "source": [
    "## Gamma"
   ]
  },
  {
   "cell_type": "code",
   "execution_count": 72,
   "metadata": {},
   "outputs": [
    {
     "name": "stderr",
     "output_type": "stream",
     "text": [
      "Clipping input data to the valid range for imshow with RGB data ([0..1] for floats or [0..255] for integers). Got range [0.0..3.2010064].\n"
     ]
    },
    {
     "data": {
      "text/plain": [
       "<matplotlib.image.AxesImage at 0x13611a45a10>"
      ]
     },
     "execution_count": 72,
     "metadata": {},
     "output_type": "execute_result"
    }
   ],
   "source": [
    "plt.imshow(awb_img_c)"
   ]
  },
  {
   "cell_type": "code",
   "execution_count": 74,
   "metadata": {},
   "outputs": [
    {
     "data": {
      "text/plain": [
       "<matplotlib.image.AxesImage at 0x1361b9fbc90>"
      ]
     },
     "execution_count": 74,
     "metadata": {},
     "output_type": "execute_result"
    }
   ],
   "source": [
    "plt.imshow(gamma(awb_img_c*4))"
   ]
  },
  {
   "cell_type": "markdown",
   "metadata": {},
   "source": []
  }
 ],
 "metadata": {
  "kernelspec": {
   "display_name": "Python 3",
   "language": "python",
   "name": "python3"
  },
  "language_info": {
   "codemirror_mode": {
    "name": "ipython",
    "version": 3
   },
   "file_extension": ".py",
   "mimetype": "text/x-python",
   "name": "python",
   "nbconvert_exporter": "python",
   "pygments_lexer": "ipython3",
   "version": "3.11.7"
  }
 },
 "nbformat": 4,
 "nbformat_minor": 2
}
