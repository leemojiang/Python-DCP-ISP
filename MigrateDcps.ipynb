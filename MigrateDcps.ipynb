{
 "cells": [
  {
   "cell_type": "markdown",
   "metadata": {},
   "source": [
    "# Migrate DCPs"
   ]
  },
  {
   "cell_type": "code",
   "execution_count": null,
   "metadata": {},
   "outputs": [],
   "source": [
    "import numpy as np\n",
    "from DCP import *\n",
    "\n",
    "%load_ext autoreload\n",
    "%autoreload 2"
   ]
  },
  {
   "cell_type": "code",
   "execution_count": null,
   "metadata": {},
   "outputs": [],
   "source": [
    "file_path = 'c:\\ProgramData\\Adobe\\CameraRaw\\CameraProfiles\\Adobe Standard\\Sony ILCE-7RM2 Adobe Standard.dcp'\n",
    "\n",
    "dcp = DCPHandler(file_path,out_path='./dcps')\n",
    "dcp.convert2xml()\n",
    "dcp.parse()\n",
    "dcp.parser.modify_tag_pairs()\n",
    "dcp.parser.parse_matrices()\n",
    "dcp.parser.parse_LUTs()\n",
    "\n",
    "file_path2 = 'c:\\ProgramData\\Adobe\\CameraRaw\\CameraProfiles\\Adobe Standard\\Olympus E-M1 Mark III Adobe Standard.dcp'\n",
    "\n",
    "dcp2 = DCPHandler(file_path2,out_path='./dcps')\n",
    "dcp2.convert2xml()\n",
    "dcp2.parse()\n",
    "dcp2.parser.modify_tag_pairs()\n",
    "dcp2.parser.parse_matrices()\n",
    "dcp2.parser.parse_LUTs()\n"
   ]
  },
  {
   "cell_type": "code",
   "execution_count": null,
   "metadata": {},
   "outputs": [],
   "source": [
    "# Blend 2 dcps\n",
    "dcp.parser.luts = dcp2.parser.luts"
   ]
  },
  {
   "cell_type": "code",
   "execution_count": null,
   "metadata": {},
   "outputs": [],
   "source": [
    "# Write out put data\n",
    "dcp.save_modified(\"./dcps/output/A7R2 Adobe Standard & EM13 Adobe Standard.xml\",dcp_outpath= \"C:\\ProgramData\\Adobe\\CameraRaw\\CameraProfiles\\MyDCPS\",rename_profileName=\"A7R2 Adobe Standard & EM13 Adobe Standard\")"
   ]
  },
  {
   "cell_type": "code",
   "execution_count": null,
   "metadata": {},
   "outputs": [],
   "source": [
    "(dcp.parser.luts['HueSatDeltas1'] == dcp2.parser.luts['HueSatDeltas1']).all()"
   ]
  },
  {
   "cell_type": "markdown",
   "metadata": {},
   "source": [
    "# Different Styles:"
   ]
  },
  {
   "cell_type": "code",
   "execution_count": null,
   "metadata": {},
   "outputs": [],
   "source": [
    "model_l = ['Nikon D850','Olympus E-M1 Mark III','Panasonic DC-S5']\n",
    "style = 'Adobe Standard'\n",
    "\n",
    "\n",
    "file_path = f'c:\\ProgramData\\Adobe\\CameraRaw\\CameraProfiles\\Adobe Standard\\Sony ILCE-7RM2 {style}.dcp'\n",
    "sony_dcp = loadDCPfile(file_path)\n",
    "\n",
    "for model in model_l:\n",
    "    file_path = f'c:\\ProgramData\\Adobe\\CameraRaw\\CameraProfiles\\Adobe Standard\\{model} {style}.dcp'\n",
    "    dcp =loadDCPfile(file_path)\n",
    "    # dcps.append(dcp) \n",
    "\n",
    "    sony_dcp.parser.luts = dcp.parser.luts\n",
    "    \n",
    "    # Write out put data\n",
    "    sony_dcp.save_modified(f\"./dcps/output/A7R2 Adobe Standard & {model} Adobe Standard.xml\",dcp_outpath= \"C:\\ProgramData\\Adobe\\CameraRaw\\CameraProfiles\\MyDCPS\",rename_profileName=f\"A7R2 Adobe Standard & {model} Adobe Standard\")\n",
    "\n",
    "\n"
   ]
  },
  {
   "cell_type": "markdown",
   "metadata": {},
   "source": [
    "# Play with dcps"
   ]
  },
  {
   "cell_type": "code",
   "execution_count": null,
   "metadata": {},
   "outputs": [],
   "source": [
    "import numpy as np\n",
    "from DCP import *\n",
    "\n",
    "%load_ext autoreload\n",
    "%autoreload 2"
   ]
  },
  {
   "cell_type": "code",
   "execution_count": null,
   "metadata": {},
   "outputs": [],
   "source": [
    "def loadDCPfile(filepath):\n",
    "    dcp = DCPHandler(file_path,out_path='./dcps')\n",
    "    dcp.convert2xml()\n",
    "    dcp.parse()\n",
    "    dcp.parser.modify_tag_pairs()\n",
    "    dcp.parser.parse_matrices()\n",
    "    dcp.parser.parse_LUTs()\n",
    "    return dcp\n",
    "\n",
    "def cluster(old_list, equal_func = lambda x,y: (x==y).all()):\n",
    "    new_list = []\n",
    "    for item in old_list:\n",
    "        flag = True\n",
    "        for subclass in new_list:\n",
    "            if equal_func(subclass[0],item):\n",
    "                subclass.append(item)\n",
    "                flag = False\n",
    "                break\n",
    "        if flag:\n",
    "            new_list.append([item])\n",
    "\n",
    "    return new_list      \n",
    "\n",
    "def cluster2(old_list, equal_func = lambda x,y: (x==y).all()):\n",
    "    new_list = []\n",
    "    for i in range(len(old_list)):\n",
    "        flag = True\n",
    "        for subclass in new_list:\n",
    "            if equal_func(old_list[subclass[0]],old_list[i]):\n",
    "                subclass.append(i)\n",
    "                flag = False\n",
    "                break\n",
    "        if flag:\n",
    "            new_list.append([i])\n",
    "\n",
    "    return new_list      "
   ]
  },
  {
   "cell_type": "code",
   "execution_count": null,
   "metadata": {},
   "outputs": [],
   "source": [
    "model_l = ['Sony ILCE-7RM2','Nikon D850','Olympus E-M1 Mark III','Panasonic DC-S5']\n",
    "style = 'Adobe Standard'\n",
    "dcps = []\n",
    "\n",
    "for model in model_l:\n",
    "    file_path = f'c:\\ProgramData\\Adobe\\CameraRaw\\CameraProfiles\\Adobe Standard\\{model} {style}.dcp'\n",
    "    dcp =loadDCPfile(file_path)\n",
    "    dcps.append(dcp) \n",
    "\n",
    "luts = [dcp.parser.luts['LookTable']  for dcp in dcps]\n",
    "hue1 = [dcp.parser.luts['HueSatDeltas1']  for dcp in dcps]\n",
    "hue2 = [dcp.parser.luts['HueSatDeltas2']  for dcp in dcps]\n"
   ]
  },
  {
   "cell_type": "code",
   "execution_count": null,
   "metadata": {},
   "outputs": [],
   "source": [
    "# Camera Profiles:\n",
    "model = 'Olympus E-M1 Mark III'\n",
    "dcps2 = []\n",
    "file_dir = f\"C:\\ProgramData\\Adobe\\CameraRaw\\CameraProfiles\\Camera\\{model}\"\n",
    "for file_name in os.listdir(file_dir):\n",
    "    file_path = os.path.join(file_dir,file_name)\n",
    "    dcp =loadDCPfile(file_path)\n",
    "    dcps2.append(dcp) \n"
   ]
  },
  {
   "cell_type": "code",
   "execution_count": null,
   "metadata": {},
   "outputs": [],
   "source": [
    "luts = [dcp.parser.luts['LookTable']  for dcp in dcps2]\n",
    "# hue1 = [dcp.parser.luts['HueSatDeltas1']  for dcp in dcps2]\n",
    "# hue2 = [dcp.parser.luts['HueSatDeltas2']  for dcp in dcps2]\n",
    "\n",
    "cm1 = [dcp.parser.matrices['ColorMatrix1']  for dcp in dcps2]\n",
    "fm1 = [dcp.parser.matrices['ForwardMatrix1']  for dcp in dcps2]\n",
    "fm2 = [dcp.parser.matrices['ForwardMatrix2']  for dcp in dcps2]\n"
   ]
  },
  {
   "cell_type": "code",
   "execution_count": null,
   "metadata": {},
   "outputs": [],
   "source": [
    "cluster2(luts),cluster2(cm1),cluster2(fm1),cluster2(fm2)"
   ]
  },
  {
   "cell_type": "code",
   "execution_count": null,
   "metadata": {},
   "outputs": [],
   "source": [
    "# dcps[2].parser.matrices[\"ColorMatrix1\"],dcps2[0].parser.matrices[\"ColorMatrix1\"]\n",
    "dcps[2].parser.matrices[\"ForwardMatrix1\"],dcps2[0].parser.matrices[\"ForwardMatrix1\"]"
   ]
  },
  {
   "cell_type": "code",
   "execution_count": null,
   "metadata": {},
   "outputs": [],
   "source": []
  }
 ],
 "metadata": {
  "kernelspec": {
   "display_name": "Python 3",
   "language": "python",
   "name": "python3"
  },
  "language_info": {
   "codemirror_mode": {
    "name": "ipython",
    "version": 3
   },
   "file_extension": ".py",
   "mimetype": "text/x-python",
   "name": "python",
   "nbconvert_exporter": "python",
   "pygments_lexer": "ipython3",
   "version": "3.11.7"
  }
 },
 "nbformat": 4,
 "nbformat_minor": 2
}
